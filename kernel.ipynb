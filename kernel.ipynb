{
 "metadata": {
  "language_info": {
   "codemirror_mode": {
    "name": "ipython",
    "version": 3
   },
   "file_extension": ".py",
   "mimetype": "text/x-python",
   "name": "python",
   "nbconvert_exporter": "python",
   "pygments_lexer": "ipython3",
   "version": "3.8.3-final"
  },
  "orig_nbformat": 2,
  "kernelspec": {
   "name": "python3",
   "display_name": "Python 3"
  }
 },
 "nbformat": 4,
 "nbformat_minor": 2,
 "cells": [
  {
   "cell_type": "code",
   "execution_count": null,
   "metadata": {},
   "outputs": [],
   "source": [
    "A function to generate the necessary d"
   ]
  },
  {
   "cell_type": "code",
   "execution_count": 72,
   "metadata": {},
   "outputs": [],
   "source": [
    "import random\n",
    "import pandas as pd\n",
    "def formula_one_random_values(numero_de_carros):\n",
    "data_frame = pd.DataFrame()\n",
    "for carro in range(numero_de_carros):\n",
    "    data_frame['aceleracao_{}'.format(carro)] = [random.randint(1,10) for velocidades in range(200)]\n",
    "    data_frame['velocidade_inicial_{}'.format(carro)] = [random.randint(90,150) for velocidades in range(200)]\n",
    "\n",
    "    return data_frame, data_frame.describe()"
   ]
  }
 ]
}